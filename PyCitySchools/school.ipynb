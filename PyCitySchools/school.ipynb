{
 "cells": [
  {
   "cell_type": "code",
   "execution_count": 1,
   "metadata": {},
   "outputs": [
    {
     "data": {
      "text/html": [
       "<div>\n",
       "<style scoped>\n",
       "    .dataframe tbody tr th:only-of-type {\n",
       "        vertical-align: middle;\n",
       "    }\n",
       "\n",
       "    .dataframe tbody tr th {\n",
       "        vertical-align: top;\n",
       "    }\n",
       "\n",
       "    .dataframe thead th {\n",
       "        text-align: right;\n",
       "    }\n",
       "</style>\n",
       "<table border=\"1\" class=\"dataframe\">\n",
       "  <thead>\n",
       "    <tr style=\"text-align: right;\">\n",
       "      <th></th>\n",
       "      <th>Student ID</th>\n",
       "      <th>student_name</th>\n",
       "      <th>gender</th>\n",
       "      <th>grade</th>\n",
       "      <th>school_name</th>\n",
       "      <th>reading_score</th>\n",
       "      <th>math_score</th>\n",
       "      <th>School ID</th>\n",
       "      <th>type</th>\n",
       "      <th>size</th>\n",
       "      <th>budget</th>\n",
       "    </tr>\n",
       "  </thead>\n",
       "  <tbody>\n",
       "    <tr>\n",
       "      <th>0</th>\n",
       "      <td>0</td>\n",
       "      <td>Paul Bradley</td>\n",
       "      <td>M</td>\n",
       "      <td>9th</td>\n",
       "      <td>Huang High School</td>\n",
       "      <td>66</td>\n",
       "      <td>79</td>\n",
       "      <td>0</td>\n",
       "      <td>District</td>\n",
       "      <td>2917</td>\n",
       "      <td>1910635</td>\n",
       "    </tr>\n",
       "    <tr>\n",
       "      <th>1</th>\n",
       "      <td>1</td>\n",
       "      <td>Victor Smith</td>\n",
       "      <td>M</td>\n",
       "      <td>12th</td>\n",
       "      <td>Huang High School</td>\n",
       "      <td>94</td>\n",
       "      <td>61</td>\n",
       "      <td>0</td>\n",
       "      <td>District</td>\n",
       "      <td>2917</td>\n",
       "      <td>1910635</td>\n",
       "    </tr>\n",
       "    <tr>\n",
       "      <th>2</th>\n",
       "      <td>2</td>\n",
       "      <td>Kevin Rodriguez</td>\n",
       "      <td>M</td>\n",
       "      <td>12th</td>\n",
       "      <td>Huang High School</td>\n",
       "      <td>90</td>\n",
       "      <td>60</td>\n",
       "      <td>0</td>\n",
       "      <td>District</td>\n",
       "      <td>2917</td>\n",
       "      <td>1910635</td>\n",
       "    </tr>\n",
       "    <tr>\n",
       "      <th>3</th>\n",
       "      <td>3</td>\n",
       "      <td>Dr. Richard Scott</td>\n",
       "      <td>M</td>\n",
       "      <td>12th</td>\n",
       "      <td>Huang High School</td>\n",
       "      <td>67</td>\n",
       "      <td>58</td>\n",
       "      <td>0</td>\n",
       "      <td>District</td>\n",
       "      <td>2917</td>\n",
       "      <td>1910635</td>\n",
       "    </tr>\n",
       "    <tr>\n",
       "      <th>4</th>\n",
       "      <td>4</td>\n",
       "      <td>Bonnie Ray</td>\n",
       "      <td>F</td>\n",
       "      <td>9th</td>\n",
       "      <td>Huang High School</td>\n",
       "      <td>97</td>\n",
       "      <td>84</td>\n",
       "      <td>0</td>\n",
       "      <td>District</td>\n",
       "      <td>2917</td>\n",
       "      <td>1910635</td>\n",
       "    </tr>\n",
       "  </tbody>\n",
       "</table>\n",
       "</div>"
      ],
      "text/plain": [
       "   Student ID       student_name gender grade        school_name  \\\n",
       "0           0       Paul Bradley      M   9th  Huang High School   \n",
       "1           1       Victor Smith      M  12th  Huang High School   \n",
       "2           2    Kevin Rodriguez      M  12th  Huang High School   \n",
       "3           3  Dr. Richard Scott      M  12th  Huang High School   \n",
       "4           4         Bonnie Ray      F   9th  Huang High School   \n",
       "\n",
       "   reading_score  math_score  School ID      type  size   budget  \n",
       "0             66          79          0  District  2917  1910635  \n",
       "1             94          61          0  District  2917  1910635  \n",
       "2             90          60          0  District  2917  1910635  \n",
       "3             67          58          0  District  2917  1910635  \n",
       "4             97          84          0  District  2917  1910635  "
      ]
     },
     "execution_count": 1,
     "metadata": {},
     "output_type": "execute_result"
    }
   ],
   "source": [
    "import pandas as pd\n",
    "import numpy as np\n",
    "\n",
    "# File to Load (Remember to Change These)\n",
    "school_data_to_load = \"Resources/04-Pandas_Homework_Instructions_PyCitySchools_Resources_schools_complete.csv\"\n",
    "student_data_to_load = \"Resources/04-Pandas_Homework_Instructions_PyCitySchools_Resources_students_complete.csv\"\n",
    "\n",
    "# Read School and Student Data File and store into Pandas DataFrames\n",
    "school_data = pd.read_csv(school_data_to_load)\n",
    "student_data = pd.read_csv(student_data_to_load)\n",
    "\n",
    "# Combine the data into a single dataset.  \n",
    "school_data_complete = pd.merge(student_data, school_data, how=\"left\", on=[\"school_name\", \"school_name\"])\n",
    "school_data_complete.head()\n",
    "fresh_school_data_complete = school_data_complete"
   ]
  },
  {
   "cell_type": "code",
   "execution_count": 21,
   "metadata": {},
   "outputs": [],
   "source": [
    "school_total = len(school_data_complete[\"school_name\"].unique())"
   ]
  },
  {
   "cell_type": "code",
   "execution_count": 3,
   "metadata": {},
   "outputs": [
    {
     "name": "stdout",
     "output_type": "stream",
     "text": [
      "39170\n"
     ]
    }
   ],
   "source": [
    "student_total = school_data_complete[\"student_name\"].count()\n",
    "print(student_total)"
   ]
  },
  {
   "cell_type": "code",
   "execution_count": 4,
   "metadata": {},
   "outputs": [
    {
     "name": "stdout",
     "output_type": "stream",
     "text": [
      "24649428\n"
     ]
    }
   ],
   "source": [
    "budget_total = school_data[\"budget\"].sum()\n",
    "print(budget_total)"
   ]
  },
  {
   "cell_type": "code",
   "execution_count": 5,
   "metadata": {},
   "outputs": [],
   "source": [
    "avg_math = school_data_complete[\"math_score\"].mean()"
   ]
  },
  {
   "cell_type": "code",
   "execution_count": 6,
   "metadata": {},
   "outputs": [
    {
     "name": "stdout",
     "output_type": "stream",
     "text": [
      "81.87784018381414\n"
     ]
    }
   ],
   "source": [
    "avg_read = school_data_complete[\"reading_score\"].mean()\n",
    "print(avg_read)"
   ]
  },
  {
   "cell_type": "code",
   "execution_count": 7,
   "metadata": {},
   "outputs": [
    {
     "name": "stdout",
     "output_type": "stream",
     "text": [
      "29370\n",
      "74.9808526933878\n"
     ]
    }
   ],
   "source": [
    "#pass_math_per = school_data_complete.loc[school_data_complete[\"math_score\"] >= 70].count()\n",
    "#pass_math = np.sum(school_data_complete[\"math_score\"] >= 70)\n",
    "pass_math = school_data_complete[school_data_complete[\"math_score\"] >= 70].count()[\"student_name\"]\n",
    "pass_math_per = (pass_math/student_total) * 100\n",
    "print(pass_math)\n",
    "print(pass_math_per)"
   ]
  },
  {
   "cell_type": "code",
   "execution_count": 8,
   "metadata": {},
   "outputs": [
    {
     "name": "stdout",
     "output_type": "stream",
     "text": [
      "33610\n",
      "85.80546336482001\n"
     ]
    }
   ],
   "source": [
    "#pass_read_per = school_data_complete.loc[school_data_complete[\"reading_score\"]>= 70].count()\n",
    "#pass_read = np.sum(school_data_complete[\"reading_score\"] >= 70)\n",
    "pass_read = school_data_complete[school_data_complete[\"reading_score\"] >= 70].count()[\"student_name\"]\n",
    "pass_read_per = (pass_read/student_total) * 100\n",
    "print(pass_read)\n",
    "print(pass_read_per)"
   ]
  },
  {
   "cell_type": "code",
   "execution_count": 9,
   "metadata": {},
   "outputs": [
    {
     "name": "stdout",
     "output_type": "stream",
     "text": [
      "25528\n",
      "65.17232575950983\n"
     ]
    }
   ],
   "source": [
    "overall_pass = school_data_complete[(school_data_complete.reading_score >= 70) & (school_data_complete.math_score >= 70)].count()[\"student_name\"]\n",
    "overall_pass_per = (overall_pass/student_total) * 100\n",
    "print(overall_pass)\n",
    "print(overall_pass_per)"
   ]
  },
  {
   "cell_type": "code",
   "execution_count": 10,
   "metadata": {},
   "outputs": [
    {
     "data": {
      "text/html": [
       "<div>\n",
       "<style scoped>\n",
       "    .dataframe tbody tr th:only-of-type {\n",
       "        vertical-align: middle;\n",
       "    }\n",
       "\n",
       "    .dataframe tbody tr th {\n",
       "        vertical-align: top;\n",
       "    }\n",
       "\n",
       "    .dataframe thead th {\n",
       "        text-align: right;\n",
       "    }\n",
       "</style>\n",
       "<table border=\"1\" class=\"dataframe\">\n",
       "  <thead>\n",
       "    <tr style=\"text-align: right;\">\n",
       "      <th></th>\n",
       "      <th>Total Schools</th>\n",
       "      <th>Total Students</th>\n",
       "      <th>Total Budgets</th>\n",
       "      <th>Average Math Score</th>\n",
       "      <th>Average Reading Score</th>\n",
       "      <th>% Passing Math</th>\n",
       "      <th>% Passing Reading</th>\n",
       "      <th>% Overall Passing</th>\n",
       "    </tr>\n",
       "  </thead>\n",
       "  <tbody>\n",
       "    <tr>\n",
       "      <th>0</th>\n",
       "      <td>15</td>\n",
       "      <td>39170</td>\n",
       "      <td>24649428</td>\n",
       "      <td>78.985371</td>\n",
       "      <td>81.87784</td>\n",
       "      <td>74.980853</td>\n",
       "      <td>85.805463</td>\n",
       "      <td>65.172326</td>\n",
       "    </tr>\n",
       "  </tbody>\n",
       "</table>\n",
       "</div>"
      ],
      "text/plain": [
       "   Total Schools  Total Students  Total Budgets  Average Math Score  \\\n",
       "0             15           39170       24649428           78.985371   \n",
       "\n",
       "   Average Reading Score  % Passing Math  % Passing Reading  % Overall Passing  \n",
       "0               81.87784       74.980853          85.805463          65.172326  "
      ]
     },
     "execution_count": 10,
     "metadata": {},
     "output_type": "execute_result"
    }
   ],
   "source": [
    "school_data_comp = {\"Total Schools\": [school_total],\n",
    "                         \"Total Students\": [student_total],\n",
    "                         \"Total Budgets\": [budget_total],\n",
    "                         \"Average Math Score\": [avg_math],\n",
    "                         \"Average Reading Score\": [avg_read],\n",
    "                         \"% Passing Math\": [pass_math_per],\n",
    "                         \"% Passing Reading\": [pass_read_per],\n",
    "                         \"% Overall Passing\": [overall_pass_per]}\n",
    "district_summary = pd.DataFrame(school_data_comp)\n",
    "district_summary"
   ]
  },
  {
   "cell_type": "code",
   "execution_count": 11,
   "metadata": {},
   "outputs": [],
   "source": [
    "#School Summary-------------------------------------------------------------------------------------------------------\n",
    "#group by school name last\n",
    "# How much code from last summary do I reuse here\n",
    "school_names = school_data_complete[\"school_name\"].unique()"
   ]
  },
  {
   "cell_type": "code",
   "execution_count": 12,
   "metadata": {},
   "outputs": [],
   "source": [
    "type_school = school_data_complete[\"type\"].unique()"
   ]
  },
  {
   "cell_type": "code",
   "execution_count": 13,
   "metadata": {},
   "outputs": [
    {
     "data": {
      "text/plain": [
       "0.0015890835276177605"
      ]
     },
     "execution_count": 13,
     "metadata": {},
     "output_type": "execute_result"
    }
   ],
   "source": [
    "# per student budget\n",
    "student_budget = (student_total/budget_total) \n",
    "student_budget"
   ]
  },
  {
   "cell_type": "code",
   "execution_count": 19,
   "metadata": {},
   "outputs": [],
   "source": [
    "fresh_school_data_complete[]"
   ]
  },
  {
   "cell_type": "code",
   "execution_count": 18,
   "metadata": {},
   "outputs": [
    {
     "data": {
      "text/html": [
       "<div>\n",
       "<style scoped>\n",
       "    .dataframe tbody tr th:only-of-type {\n",
       "        vertical-align: middle;\n",
       "    }\n",
       "\n",
       "    .dataframe tbody tr th {\n",
       "        vertical-align: top;\n",
       "    }\n",
       "\n",
       "    .dataframe thead th {\n",
       "        text-align: right;\n",
       "    }\n",
       "</style>\n",
       "<table border=\"1\" class=\"dataframe\">\n",
       "  <thead>\n",
       "    <tr style=\"text-align: right;\">\n",
       "      <th></th>\n",
       "      <th>School Type</th>\n",
       "      <th>Total Students</th>\n",
       "      <th>Total Budgets</th>\n",
       "      <th>Per Student Budget</th>\n",
       "      <th>Average Math Score</th>\n",
       "      <th>Average Reading Score</th>\n",
       "      <th>% Passing Math</th>\n",
       "      <th>% Passing Reading</th>\n",
       "      <th>% Overall Passing</th>\n",
       "    </tr>\n",
       "  </thead>\n",
       "  <tbody>\n",
       "    <tr>\n",
       "      <th>Huang High School</th>\n",
       "      <td>[District, Charter]</td>\n",
       "      <td>39170</td>\n",
       "      <td>24649428</td>\n",
       "      <td>0.001589</td>\n",
       "      <td>78.985371</td>\n",
       "      <td>81.87784</td>\n",
       "      <td>74.980853</td>\n",
       "      <td>85.805463</td>\n",
       "      <td>65.172326</td>\n",
       "    </tr>\n",
       "    <tr>\n",
       "      <th>Figueroa High School</th>\n",
       "      <td>[District, Charter]</td>\n",
       "      <td>39170</td>\n",
       "      <td>24649428</td>\n",
       "      <td>0.001589</td>\n",
       "      <td>78.985371</td>\n",
       "      <td>81.87784</td>\n",
       "      <td>74.980853</td>\n",
       "      <td>85.805463</td>\n",
       "      <td>65.172326</td>\n",
       "    </tr>\n",
       "    <tr>\n",
       "      <th>Shelton High School</th>\n",
       "      <td>[District, Charter]</td>\n",
       "      <td>39170</td>\n",
       "      <td>24649428</td>\n",
       "      <td>0.001589</td>\n",
       "      <td>78.985371</td>\n",
       "      <td>81.87784</td>\n",
       "      <td>74.980853</td>\n",
       "      <td>85.805463</td>\n",
       "      <td>65.172326</td>\n",
       "    </tr>\n",
       "    <tr>\n",
       "      <th>Hernandez High School</th>\n",
       "      <td>[District, Charter]</td>\n",
       "      <td>39170</td>\n",
       "      <td>24649428</td>\n",
       "      <td>0.001589</td>\n",
       "      <td>78.985371</td>\n",
       "      <td>81.87784</td>\n",
       "      <td>74.980853</td>\n",
       "      <td>85.805463</td>\n",
       "      <td>65.172326</td>\n",
       "    </tr>\n",
       "    <tr>\n",
       "      <th>Griffin High School</th>\n",
       "      <td>[District, Charter]</td>\n",
       "      <td>39170</td>\n",
       "      <td>24649428</td>\n",
       "      <td>0.001589</td>\n",
       "      <td>78.985371</td>\n",
       "      <td>81.87784</td>\n",
       "      <td>74.980853</td>\n",
       "      <td>85.805463</td>\n",
       "      <td>65.172326</td>\n",
       "    </tr>\n",
       "    <tr>\n",
       "      <th>Wilson High School</th>\n",
       "      <td>[District, Charter]</td>\n",
       "      <td>39170</td>\n",
       "      <td>24649428</td>\n",
       "      <td>0.001589</td>\n",
       "      <td>78.985371</td>\n",
       "      <td>81.87784</td>\n",
       "      <td>74.980853</td>\n",
       "      <td>85.805463</td>\n",
       "      <td>65.172326</td>\n",
       "    </tr>\n",
       "    <tr>\n",
       "      <th>Cabrera High School</th>\n",
       "      <td>[District, Charter]</td>\n",
       "      <td>39170</td>\n",
       "      <td>24649428</td>\n",
       "      <td>0.001589</td>\n",
       "      <td>78.985371</td>\n",
       "      <td>81.87784</td>\n",
       "      <td>74.980853</td>\n",
       "      <td>85.805463</td>\n",
       "      <td>65.172326</td>\n",
       "    </tr>\n",
       "    <tr>\n",
       "      <th>Bailey High School</th>\n",
       "      <td>[District, Charter]</td>\n",
       "      <td>39170</td>\n",
       "      <td>24649428</td>\n",
       "      <td>0.001589</td>\n",
       "      <td>78.985371</td>\n",
       "      <td>81.87784</td>\n",
       "      <td>74.980853</td>\n",
       "      <td>85.805463</td>\n",
       "      <td>65.172326</td>\n",
       "    </tr>\n",
       "    <tr>\n",
       "      <th>Holden High School</th>\n",
       "      <td>[District, Charter]</td>\n",
       "      <td>39170</td>\n",
       "      <td>24649428</td>\n",
       "      <td>0.001589</td>\n",
       "      <td>78.985371</td>\n",
       "      <td>81.87784</td>\n",
       "      <td>74.980853</td>\n",
       "      <td>85.805463</td>\n",
       "      <td>65.172326</td>\n",
       "    </tr>\n",
       "    <tr>\n",
       "      <th>Pena High School</th>\n",
       "      <td>[District, Charter]</td>\n",
       "      <td>39170</td>\n",
       "      <td>24649428</td>\n",
       "      <td>0.001589</td>\n",
       "      <td>78.985371</td>\n",
       "      <td>81.87784</td>\n",
       "      <td>74.980853</td>\n",
       "      <td>85.805463</td>\n",
       "      <td>65.172326</td>\n",
       "    </tr>\n",
       "    <tr>\n",
       "      <th>Wright High School</th>\n",
       "      <td>[District, Charter]</td>\n",
       "      <td>39170</td>\n",
       "      <td>24649428</td>\n",
       "      <td>0.001589</td>\n",
       "      <td>78.985371</td>\n",
       "      <td>81.87784</td>\n",
       "      <td>74.980853</td>\n",
       "      <td>85.805463</td>\n",
       "      <td>65.172326</td>\n",
       "    </tr>\n",
       "    <tr>\n",
       "      <th>Rodriguez High School</th>\n",
       "      <td>[District, Charter]</td>\n",
       "      <td>39170</td>\n",
       "      <td>24649428</td>\n",
       "      <td>0.001589</td>\n",
       "      <td>78.985371</td>\n",
       "      <td>81.87784</td>\n",
       "      <td>74.980853</td>\n",
       "      <td>85.805463</td>\n",
       "      <td>65.172326</td>\n",
       "    </tr>\n",
       "    <tr>\n",
       "      <th>Johnson High School</th>\n",
       "      <td>[District, Charter]</td>\n",
       "      <td>39170</td>\n",
       "      <td>24649428</td>\n",
       "      <td>0.001589</td>\n",
       "      <td>78.985371</td>\n",
       "      <td>81.87784</td>\n",
       "      <td>74.980853</td>\n",
       "      <td>85.805463</td>\n",
       "      <td>65.172326</td>\n",
       "    </tr>\n",
       "    <tr>\n",
       "      <th>Ford High School</th>\n",
       "      <td>[District, Charter]</td>\n",
       "      <td>39170</td>\n",
       "      <td>24649428</td>\n",
       "      <td>0.001589</td>\n",
       "      <td>78.985371</td>\n",
       "      <td>81.87784</td>\n",
       "      <td>74.980853</td>\n",
       "      <td>85.805463</td>\n",
       "      <td>65.172326</td>\n",
       "    </tr>\n",
       "    <tr>\n",
       "      <th>Thomas High School</th>\n",
       "      <td>[District, Charter]</td>\n",
       "      <td>39170</td>\n",
       "      <td>24649428</td>\n",
       "      <td>0.001589</td>\n",
       "      <td>78.985371</td>\n",
       "      <td>81.87784</td>\n",
       "      <td>74.980853</td>\n",
       "      <td>85.805463</td>\n",
       "      <td>65.172326</td>\n",
       "    </tr>\n",
       "  </tbody>\n",
       "</table>\n",
       "</div>"
      ],
      "text/plain": [
       "                               School Type  Total Students  Total Budgets  \\\n",
       "Huang High School      [District, Charter]           39170       24649428   \n",
       "Figueroa High School   [District, Charter]           39170       24649428   \n",
       "Shelton High School    [District, Charter]           39170       24649428   \n",
       "Hernandez High School  [District, Charter]           39170       24649428   \n",
       "Griffin High School    [District, Charter]           39170       24649428   \n",
       "Wilson High School     [District, Charter]           39170       24649428   \n",
       "Cabrera High School    [District, Charter]           39170       24649428   \n",
       "Bailey High School     [District, Charter]           39170       24649428   \n",
       "Holden High School     [District, Charter]           39170       24649428   \n",
       "Pena High School       [District, Charter]           39170       24649428   \n",
       "Wright High School     [District, Charter]           39170       24649428   \n",
       "Rodriguez High School  [District, Charter]           39170       24649428   \n",
       "Johnson High School    [District, Charter]           39170       24649428   \n",
       "Ford High School       [District, Charter]           39170       24649428   \n",
       "Thomas High School     [District, Charter]           39170       24649428   \n",
       "\n",
       "                       Per Student Budget  Average Math Score  \\\n",
       "Huang High School                0.001589           78.985371   \n",
       "Figueroa High School             0.001589           78.985371   \n",
       "Shelton High School              0.001589           78.985371   \n",
       "Hernandez High School            0.001589           78.985371   \n",
       "Griffin High School              0.001589           78.985371   \n",
       "Wilson High School               0.001589           78.985371   \n",
       "Cabrera High School              0.001589           78.985371   \n",
       "Bailey High School               0.001589           78.985371   \n",
       "Holden High School               0.001589           78.985371   \n",
       "Pena High School                 0.001589           78.985371   \n",
       "Wright High School               0.001589           78.985371   \n",
       "Rodriguez High School            0.001589           78.985371   \n",
       "Johnson High School              0.001589           78.985371   \n",
       "Ford High School                 0.001589           78.985371   \n",
       "Thomas High School               0.001589           78.985371   \n",
       "\n",
       "                       Average Reading Score  % Passing Math  \\\n",
       "Huang High School                   81.87784       74.980853   \n",
       "Figueroa High School                81.87784       74.980853   \n",
       "Shelton High School                 81.87784       74.980853   \n",
       "Hernandez High School               81.87784       74.980853   \n",
       "Griffin High School                 81.87784       74.980853   \n",
       "Wilson High School                  81.87784       74.980853   \n",
       "Cabrera High School                 81.87784       74.980853   \n",
       "Bailey High School                  81.87784       74.980853   \n",
       "Holden High School                  81.87784       74.980853   \n",
       "Pena High School                    81.87784       74.980853   \n",
       "Wright High School                  81.87784       74.980853   \n",
       "Rodriguez High School               81.87784       74.980853   \n",
       "Johnson High School                 81.87784       74.980853   \n",
       "Ford High School                    81.87784       74.980853   \n",
       "Thomas High School                  81.87784       74.980853   \n",
       "\n",
       "                       % Passing Reading  % Overall Passing  \n",
       "Huang High School              85.805463          65.172326  \n",
       "Figueroa High School           85.805463          65.172326  \n",
       "Shelton High School            85.805463          65.172326  \n",
       "Hernandez High School          85.805463          65.172326  \n",
       "Griffin High School            85.805463          65.172326  \n",
       "Wilson High School             85.805463          65.172326  \n",
       "Cabrera High School            85.805463          65.172326  \n",
       "Bailey High School             85.805463          65.172326  \n",
       "Holden High School             85.805463          65.172326  \n",
       "Pena High School               85.805463          65.172326  \n",
       "Wright High School             85.805463          65.172326  \n",
       "Rodriguez High School          85.805463          65.172326  \n",
       "Johnson High School            85.805463          65.172326  \n",
       "Ford High School               85.805463          65.172326  \n",
       "Thomas High School             85.805463          65.172326  "
      ]
     },
     "execution_count": 18,
     "metadata": {},
     "output_type": "execute_result"
    }
   ],
   "source": [
    "#school_comp = {\"School Type\": [type_school],\n",
    " #                  \"Total Students\": [student_total],\n",
    "  #                 \"Total Budgets\": [budget_total],\n",
    "   #                \"Per Student Budget\": [student_budget],\n",
    "    #               \"Average Math Score\": [avg_math],\n",
    "     #              \"Average Reading Score\": [avg_read],\n",
    "      #             \"% Passing Math\": [pass_math_per],\n",
    "       #            \"% Passing Reading\": [pass_read_per],\n",
    "        #           \"% Overall Passing\": [overall_pass_per]}\n",
    "#class_summary = pd.DataFrame(school_comp,index = school_names)\n",
    "#class_summary"
   ]
  },
  {
   "cell_type": "code",
   "execution_count": 15,
   "metadata": {
    "scrolled": true
   },
   "outputs": [],
   "source": [
    "#class_summary = class_summary.groupby('school_name')"
   ]
  },
  {
   "cell_type": "code",
   "execution_count": null,
   "metadata": {},
   "outputs": [],
   "source": []
  }
 ],
 "metadata": {
  "kernelspec": {
   "display_name": "Python 3",
   "language": "python",
   "name": "python3"
  },
  "language_info": {
   "codemirror_mode": {
    "name": "ipython",
    "version": 3
   },
   "file_extension": ".py",
   "mimetype": "text/x-python",
   "name": "python",
   "nbconvert_exporter": "python",
   "pygments_lexer": "ipython3",
   "version": "3.8.5"
  }
 },
 "nbformat": 4,
 "nbformat_minor": 4
}
